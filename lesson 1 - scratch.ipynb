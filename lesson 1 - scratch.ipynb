{
 "cells": [
  {
   "cell_type": "markdown",
   "metadata": {},
   "source": [
    "# from scratch\n",
    "\n",
    "no looking patrick..."
   ]
  },
  {
   "cell_type": "markdown",
   "metadata": {},
   "source": [
    "### imports + settings etc"
   ]
  },
  {
   "cell_type": "code",
   "execution_count": 4,
   "metadata": {},
   "outputs": [],
   "source": [
    "%reload_ext autoreload\n",
    "%autoreload 2\n",
    "%matplotlib inline"
   ]
  },
  {
   "cell_type": "code",
   "execution_count": 5,
   "metadata": {},
   "outputs": [],
   "source": [
    "from fastai import *\n",
    "from fastai.vision import *"
   ]
  },
  {
   "cell_type": "markdown",
   "metadata": {},
   "source": [
    "## get data"
   ]
  },
  {
   "cell_type": "code",
   "execution_count": 38,
   "metadata": {},
   "outputs": [
    {
     "data": {
      "text/plain": [
       "[PosixPath('/home/ubuntu/data/fastai/data/hipsters/hipsters')]"
      ]
     },
     "execution_count": 38,
     "metadata": {},
     "output_type": "execute_result"
    }
   ],
   "source": [
    "path = Path('/home/ubuntu/data/fastai/data/hipsters'); path.ls()"
   ]
  },
  {
   "cell_type": "code",
   "execution_count": 39,
   "metadata": {},
   "outputs": [
    {
     "data": {
      "text/html": [
       "<div>\n",
       "<style scoped>\n",
       "    .dataframe tbody tr th:only-of-type {\n",
       "        vertical-align: middle;\n",
       "    }\n",
       "\n",
       "    .dataframe tbody tr th {\n",
       "        vertical-align: top;\n",
       "    }\n",
       "\n",
       "    .dataframe thead th {\n",
       "        text-align: right;\n",
       "    }\n",
       "</style>\n",
       "<table border=\"1\" class=\"dataframe\">\n",
       "  <thead>\n",
       "    <tr style=\"text-align: right;\">\n",
       "      <th></th>\n",
       "      <th>0</th>\n",
       "    </tr>\n",
       "  </thead>\n",
       "  <tbody>\n",
       "    <tr>\n",
       "      <th>0</th>\n",
       "      <td>https://dch81km8r5tow.cloudfront.net/wp-conten...</td>\n",
       "    </tr>\n",
       "    <tr>\n",
       "      <th>1</th>\n",
       "      <td>https://www.futurebrand.com/uploads/news-opini...</td>\n",
       "    </tr>\n",
       "  </tbody>\n",
       "</table>\n",
       "</div>"
      ],
      "text/plain": [
       "                                                   0\n",
       "0  https://dch81km8r5tow.cloudfront.net/wp-conten...\n",
       "1  https://www.futurebrand.com/uploads/news-opini..."
      ]
     },
     "execution_count": 39,
     "metadata": {},
     "output_type": "execute_result"
    }
   ],
   "source": [
    "df = pd.read_csv(path/'hipsters/urls_hipsters.csv', delimiter='\\n', header=None); df.head(2)"
   ]
  },
  {
   "cell_type": "code",
   "execution_count": 45,
   "metadata": {},
   "outputs": [],
   "source": [
    "hipsters_path = path/'hipsters'\n",
    "url_hipsters = path/'urls_hipsters.csv'\n",
    "dest = hipsters_path"
   ]
  },
  {
   "cell_type": "code",
   "execution_count": 43,
   "metadata": {
    "scrolled": true
   },
   "outputs": [
    {
     "data": {
      "text/html": [
       "\n",
       "    <div>\n",
       "        <style>\n",
       "            /* Turns off some styling */\n",
       "            progress {\n",
       "                /* gets rid of default border in Firefox and Opera. */\n",
       "                border: none;\n",
       "                /* Needs to be in here for Safari polyfill so background images work as expected. */\n",
       "                background-size: auto;\n",
       "            }\n",
       "            .progress-bar-interrupted, .progress-bar-interrupted::-webkit-progress-bar {\n",
       "                background: #F44336;\n",
       "            }\n",
       "        </style>\n",
       "      <progress value='100' class='' max='100', style='width:300px; height:20px; vertical-align: middle;'></progress>\n",
       "      100.00% [100/100 00:27<00:00]\n",
       "    </div>\n",
       "    "
      ],
      "text/plain": [
       "<IPython.core.display.HTML object>"
      ]
     },
     "metadata": {},
     "output_type": "display_data"
    },
    {
     "name": "stdout",
     "output_type": "stream",
     "text": [
      "Error http://res.cloudinary.com/sagacity/image/upload/c_crop,h_426,w_238,x_0,y_0/c_scale,w_640/v1396551134/change-1_xcxzpl.jpg HTTPConnectionPool(host='res.cloudinary.com', port=80): Max retries exceeded with url: /sagacity/image/upload/c_crop,h_426,w_238,x_0,y_0/c_scale,w_640/v1396551134/change-1_xcxzpl.jpg (Caused by ConnectTimeoutError(<urllib3.connection.HTTPConnection object at 0x7f2cddef6c88>, 'Connection to res.cloudinary.com timed out. (connect timeout=4)'))\n",
      "Error http://dailyutahchronicle.com/wp-content/uploads/2018/07/adult-beard-checkered-shirt-69212.jpg HTTPConnectionPool(host='dailyutahchronicle.com', port=80): Max retries exceeded with url: /wp-content/uploads/2018/07/adult-beard-checkered-shirt-69212.jpg (Caused by ConnectTimeoutError(<urllib3.connection.HTTPConnection object at 0x7f2cdd875a90>, 'Connection to dailyutahchronicle.com timed out. (connect timeout=4)'))\n",
      "Error http://48hills.org/wp-content/uploads/2015/08/x24hipsterapocalypsecut.jpg HTTPConnectionPool(host='48hills.org', port=80): Max retries exceeded with url: /wp-content/uploads/2015/08/x24hipsterapocalypsecut.jpg (Caused by ConnectTimeoutError(<urllib3.connection.HTTPConnection object at 0x7f2cdde77278>, 'Connection to 48hills.org timed out. (connect timeout=4)'))\n",
      "Error http://www.city-data.com/forum/attachments/general-u-s/147623d1428220635-there-city-no-hipsters-hipster.jpg HTTPConnectionPool(host='www.city-data.com', port=80): Max retries exceeded with url: /forum/attachments/general-u-s/147623d1428220635-there-city-no-hipsters-hipster.jpg (Caused by ConnectTimeoutError(<urllib3.connection.HTTPConnection object at 0x7f2cddf2a128>, 'Connection to www.city-data.com timed out. (connect timeout=4)'))\n",
      "Error http://blog.apaonline.org/wp-content/uploads/2017/07/hipster1.jpg HTTPConnectionPool(host='blog.apaonline.org', port=80): Max retries exceeded with url: /wp-content/uploads/2017/07/hipster1.jpg (Caused by ConnectTimeoutError(<urllib3.connection.HTTPConnection object at 0x7f2cddd743c8>, 'Connection to blog.apaonline.org timed out. (connect timeout=4)'))\n",
      "Error https://www.washingtonpost.com/resizer/H1fHTognq1oQZOXkYWGQ8mLnWZs=/1484x0/arc-anglerfish-washpost-prod-washpost.s3.amazonaws.com/public/DGCLNGUHIZFTBCZKCWFWCVJ7WA.jpg HTTPSConnectionPool(host='www.washingtonpost.com', port=443): Read timed out. (read timeout=4)\n",
      "Error http://www2.pictures.stylebistro.com/mp/aviYO_fn5FZl.jpg HTTPConnectionPool(host='www2.pictures.stylebistro.com', port=80): Max retries exceeded with url: /mp/aviYO_fn5FZl.jpg (Caused by ConnectTimeoutError(<urllib3.connection.HTTPConnection object at 0x7f2cddef6390>, 'Connection to www2.pictures.stylebistro.com timed out. (connect timeout=4)'))\n",
      "Error http://www.boomerinas.com/wp-content/uploads/2015/01/what-is-a-hipster.jpg HTTPConnectionPool(host='www.boomerinas.com', port=80): Max retries exceeded with url: /wp-content/uploads/2015/01/what-is-a-hipster.jpg (Caused by ConnectTimeoutError(<urllib3.connection.HTTPConnection object at 0x7f2cdd8a3ac8>, 'Connection to www.boomerinas.com timed out. (connect timeout=4)'))\n",
      "Error https://img.washingtonpost.com/blogs/compost/files/2013/05/PH2009080402434.jpg HTTPSConnectionPool(host='img.washingtonpost.com', port=443): Read timed out. (read timeout=4)\n",
      "Error http://blogs.discovermagazine.com/d-brief/files/2015/03/shutterstock_141458371.jpg HTTPConnectionPool(host='blogs.discovermagazine.com', port=80): Max retries exceeded with url: /d-brief/files/2015/03/shutterstock_141458371.jpg (Caused by ConnectTimeoutError(<urllib3.connection.HTTPConnection object at 0x7f2cddef6dd8>, 'Connection to blogs.discovermagazine.com timed out. (connect timeout=4)'))\n",
      "Error http://veganbros.com/wp-content/uploads/2016/11/enhanced-buzz-9602-1382717182-21.jpg-200x300.jpeg HTTPConnectionPool(host='veganbros.com', port=80): Max retries exceeded with url: /wp-content/uploads/2016/11/enhanced-buzz-9602-1382717182-21.jpg-200x300.jpeg (Caused by ConnectTimeoutError(<urllib3.connection.HTTPConnection object at 0x7f2cdefb44e0>, 'Connection to veganbros.com timed out. (connect timeout=4)'))\n",
      "Error http://dailybonnet.com/wp-content/uploads/2017/09/hipster-e1506205145304.jpg HTTPConnectionPool(host='dailybonnet.com', port=80): Max retries exceeded with url: /wp-content/uploads/2017/09/hipster-e1506205145304.jpg (Caused by ConnectTimeoutError(<urllib3.connection.HTTPConnection object at 0x7f2cdd875940>, 'Connection to dailybonnet.com timed out. (connect timeout=4)'))\n",
      "Error http://eatosi.com/wp-content/uploads/2016/05/When-Hipsters-and-foodies-collide.jpg HTTPConnectionPool(host='eatosi.com', port=80): Max retries exceeded with url: /wp-content/uploads/2016/05/When-Hipsters-and-foodies-collide.jpg (Caused by ConnectTimeoutError(<urllib3.connection.HTTPConnection object at 0x7f2cddbd9240>, 'Connection to eatosi.com timed out. (connect timeout=4)'))\n",
      "Error http://beardstyle.net/wp-content/uploads/2016/06/hipster-mustaches-6.jpg HTTPConnectionPool(host='beardstyle.net', port=80): Max retries exceeded with url: /wp-content/uploads/2016/06/hipster-mustaches-6.jpg (Caused by ConnectTimeoutError(<urllib3.connection.HTTPConnection object at 0x7f2cddf2a518>, 'Connection to beardstyle.net timed out. (connect timeout=4)'))\n",
      "Error http://andrewsullivan.theatlantic.com/.a/6a00d83451c45669e201156fa3ad10970c-500wi HTTPConnectionPool(host='andrewsullivan.theatlantic.com', port=80): Max retries exceeded with url: /.a/6a00d83451c45669e201156fa3ad10970c-500wi (Caused by ConnectTimeoutError(<urllib3.connection.HTTPConnection object at 0x7f2cddb10e80>, 'Connection to andrewsullivan.theatlantic.com timed out. (connect timeout=4)'))\n",
      "Error http://finedininglovers.cdn.crosscast-system.com/BlogPost/xl_3931_hipster-TP.jpg HTTPConnectionPool(host='finedininglovers.cdn.crosscast-system.com', port=80): Max retries exceeded with url: /BlogPost/xl_3931_hipster-TP.jpg (Caused by ConnectTimeoutError(<urllib3.connection.HTTPConnection object at 0x7f2cdd875e80>, 'Connection to finedininglovers.cdn.crosscast-system.com timed out. (connect timeout=4)'))\n"
     ]
    }
   ],
   "source": [
    "download_images(url_hipsters, hipsters_path)"
   ]
  },
  {
   "cell_type": "code",
   "execution_count": 47,
   "metadata": {
    "scrolled": true
   },
   "outputs": [
    {
     "data": {
      "text/plain": [
       "84"
      ]
     },
     "execution_count": 47,
     "metadata": {},
     "output_type": "execute_result"
    }
   ],
   "source": [
    "len(hipsters_path.ls())"
   ]
  },
  {
   "cell_type": "markdown",
   "metadata": {},
   "source": [
    "### now get more categories for social sub group for teenagers\n",
    "\n",
    "- goths\n",
    "- jocks\n",
    "- emo\n",
    "- norm core?"
   ]
  },
  {
   "cell_type": "code",
   "execution_count": null,
   "metadata": {},
   "outputs": [],
   "source": []
  },
  {
   "cell_type": "code",
   "execution_count": null,
   "metadata": {},
   "outputs": [],
   "source": []
  },
  {
   "cell_type": "code",
   "execution_count": null,
   "metadata": {},
   "outputs": [],
   "source": []
  },
  {
   "cell_type": "code",
   "execution_count": null,
   "metadata": {},
   "outputs": [],
   "source": []
  },
  {
   "cell_type": "markdown",
   "metadata": {},
   "source": [
    "## examine data"
   ]
  },
  {
   "cell_type": "markdown",
   "metadata": {},
   "source": [
    "## Creating the ImageDataBunch"
   ]
  },
  {
   "cell_type": "markdown",
   "metadata": {},
   "source": [
    "## Create Learner"
   ]
  },
  {
   "cell_type": "markdown",
   "metadata": {},
   "source": [
    "## Train learner "
   ]
  },
  {
   "cell_type": "markdown",
   "metadata": {},
   "source": [
    "## Unfreeze and Fine Tune model"
   ]
  },
  {
   "cell_type": "markdown",
   "metadata": {},
   "source": [
    "## Interpretation"
   ]
  },
  {
   "cell_type": "code",
   "execution_count": null,
   "metadata": {},
   "outputs": [],
   "source": []
  }
 ],
 "metadata": {
  "kernelspec": {
   "display_name": "Python 3",
   "language": "python",
   "name": "python3"
  },
  "language_info": {
   "codemirror_mode": {
    "name": "ipython",
    "version": 3
   },
   "file_extension": ".py",
   "mimetype": "text/x-python",
   "name": "python",
   "nbconvert_exporter": "python",
   "pygments_lexer": "ipython3",
   "version": "3.6.6"
  }
 },
 "nbformat": 4,
 "nbformat_minor": 2
}
